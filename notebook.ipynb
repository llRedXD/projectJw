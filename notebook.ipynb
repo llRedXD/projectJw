{
 "cells": [
  {
   "cell_type": "markdown",
   "id": "c500e0f6",
   "metadata": {},
   "source": [
    "# Importações e funções auxiliares"
   ]
  },
  {
   "cell_type": "code",
   "execution_count": 1,
   "id": "2589dd41",
   "metadata": {},
   "outputs": [],
   "source": [
    "from datetime import datetime\n",
    "from docx import Document\n",
    "\n",
    "\n",
    "month_mapping = {\n",
    "    1: \"janeiro\",\n",
    "    2: \"fevereiro\",\n",
    "    3: \"março\",\n",
    "    4: \"abril\",\n",
    "    5: \"maio\",\n",
    "    6: \"junho\",\n",
    "    7: \"julho\",\n",
    "    8: \"agosto\",\n",
    "    9: \"setembro\",\n",
    "    10: \"outubro\",\n",
    "    11: \"novembro\",\n",
    "    12: \"dezembro\",\n",
    "}\n",
    "\n",
    "def multi_append(lst, value, count):\n",
    "    for _ in range(count):\n",
    "        lst.append(value)"
   ]
  },
  {
   "cell_type": "markdown",
   "id": "d15de291",
   "metadata": {},
   "source": [
    "# Manipulação dos dados"
   ]
  },
  {
   "cell_type": "markdown",
   "id": "004de5eb",
   "metadata": {},
   "source": [
    "## Pegando dados do json e tabelas iniciais"
   ]
  },
  {
   "cell_type": "code",
   "execution_count": 2,
   "id": "6a7c27b7",
   "metadata": {},
   "outputs": [],
   "source": [
    "tab1 = []\n",
    "tab2 = []\n",
    "tab3 = []\n",
    "tab4 = []\n",
    "tab5 = []"
   ]
  },
  {
   "cell_type": "code",
   "execution_count": 3,
   "id": "7acab568",
   "metadata": {},
   "outputs": [
    {
     "name": "stdout",
     "output_type": "stream",
     "text": [
      "{'reunioes': [{'id': 1, 'data': '2025-05-01', 'texto': 'PROVERBIOS 11', 'cantico_inicial': '145', 'cantico_meio': '56', 'cantico_final': '2', 'oracao_inicial_id': 2, 'oracao_final_id': 5, 'presidente_id': 1, 'conselheiro_sala_b_id': 5, 'partes': [{'id': 3, 'reuniao_id': 1, 'numero_parte': 1, 'trecho': 'Tesouros da Palavra de Deus', 'nome_parte': 'Não Fale...', 'ponto_parte': None, 'duracao': 10, 'pessoa_id': 1, 'ajudante_id': None, 'pessoa_b_id': None, 'ajudante_b_id': None}, {'id': 2, 'reuniao_id': 1, 'numero_parte': 2, 'trecho': 'Tesouros da Palavra de Deus', 'nome_parte': 'Joias espirituais', 'ponto_parte': '', 'duracao': 10, 'pessoa_id': 3, 'ajudante_id': None, 'pessoa_b_id': None, 'ajudante_b_id': None}, {'id': 1, 'reuniao_id': 1, 'numero_parte': 3, 'trecho': 'Tesouros da Palavra de Deus', 'nome_parte': 'Leitura da Biblia', 'ponto_parte': '', 'duracao': 4, 'pessoa_id': 5, 'ajudante_id': None, 'pessoa_b_id': None, 'ajudante_b_id': None}, {'id': 16, 'reuniao_id': 1, 'numero_parte': 4, 'trecho': 'Faça seu Melhor no Ministério', 'nome_parte': None, 'ponto_parte': '', 'duracao': 1, 'pessoa_id': None, 'ajudante_id': None, 'pessoa_b_id': None, 'ajudante_b_id': None}, {'id': 15, 'reuniao_id': 1, 'numero_parte': 5, 'trecho': 'Faça seu Melhor no Ministério', 'nome_parte': None, 'ponto_parte': '', 'duracao': 4, 'pessoa_id': None, 'ajudante_id': None, 'pessoa_b_id': None, 'ajudante_b_id': None}, {'id': 7, 'reuniao_id': 1, 'numero_parte': 6, 'trecho': 'Faça seu Melhor no Ministério', 'nome_parte': 'Inciando conversas', 'ponto_parte': '', 'duracao': 6, 'pessoa_id': 8, 'ajudante_id': 9, 'pessoa_b_id': None, 'ajudante_b_id': None}, {'id': 18, 'reuniao_id': 1, 'numero_parte': 7, 'trecho': 'Nossa Vida Cristã', 'nome_parte': 'Necessidades locais', 'ponto_parte': None, 'duracao': 15, 'pessoa_id': 6, 'ajudante_id': None, 'pessoa_b_id': None, 'ajudante_b_id': None}, {'id': 17, 'reuniao_id': 1, 'numero_parte': 8, 'trecho': 'Nossa Vida Cristã', 'nome_parte': 'Estudo Biblíco', 'ponto_parte': None, 'duracao': 30, 'pessoa_id': 2, 'ajudante_id': None, 'pessoa_b_id': None, 'ajudante_b_id': None}]}, {'id': 8, 'data': '2025-05-08', 'texto': 'PROVERBIOS 12', 'cantico_inicial': None, 'cantico_meio': None, 'cantico_final': None, 'oracao_inicial_id': None, 'oracao_final_id': None, 'presidente_id': None, 'conselheiro_sala_b_id': None, 'partes': [{'id': 54, 'reuniao_id': 8, 'numero_parte': 1, 'trecho': 'Tesouros da Palavra de Deus', 'nome_parte': '', 'ponto_parte': None, 'duracao': 0, 'pessoa_id': 5, 'ajudante_id': None, 'pessoa_b_id': None, 'ajudante_b_id': None}, {'id': 55, 'reuniao_id': 8, 'numero_parte': 2, 'trecho': 'Tesouros da Palavra de Deus', 'nome_parte': 'Joias espirituais', 'ponto_parte': None, 'duracao': 0, 'pessoa_id': None, 'ajudante_id': None, 'pessoa_b_id': None, 'ajudante_b_id': None}, {'id': 56, 'reuniao_id': 8, 'numero_parte': 3, 'trecho': 'Tesouros da Palavra de Deus', 'nome_parte': 'Leitura da Bíblia', 'ponto_parte': None, 'duracao': 0, 'pessoa_id': None, 'ajudante_id': None, 'pessoa_b_id': None, 'ajudante_b_id': None}, {'id': 70, 'reuniao_id': 8, 'numero_parte': 4, 'trecho': 'Faça seu Melhor no Ministério', 'nome_parte': None, 'ponto_parte': None, 'duracao': 0, 'pessoa_id': None, 'ajudante_id': None, 'pessoa_b_id': None, 'ajudante_b_id': None}, {'id': 58, 'reuniao_id': 8, 'numero_parte': 5, 'trecho': 'Faça seu Melhor no Ministério', 'nome_parte': 'Cultivando o interesse', 'ponto_parte': None, 'duracao': 0, 'pessoa_id': None, 'ajudante_id': None, 'pessoa_b_id': None, 'ajudante_b_id': None}, {'id': 59, 'reuniao_id': 8, 'numero_parte': 6, 'trecho': 'Faça seu Melhor no Ministério', 'nome_parte': 'Cultivando o interesse', 'ponto_parte': '', 'duracao': 0, 'pessoa_id': 10, 'ajudante_id': 5, 'pessoa_b_id': 9, 'ajudante_b_id': 6}, {'id': 60, 'reuniao_id': 8, 'numero_parte': 7, 'trecho': 'Nossa Vida Cristã', 'nome_parte': '', 'ponto_parte': None, 'duracao': 0, 'pessoa_id': None, 'ajudante_id': None, 'pessoa_b_id': None, 'ajudante_b_id': None}, {'id': 61, 'reuniao_id': 8, 'numero_parte': 8, 'trecho': 'Nossa Vida Cristã', 'nome_parte': 'Estudo da Biblico', 'ponto_parte': None, 'duracao': 0, 'pessoa_id': None, 'ajudante_id': None, 'pessoa_b_id': None, 'ajudante_b_id': None}]}, {'id': 7, 'data': '2025-05-15', 'texto': 'PROVERBIOS 13', 'cantico_inicial': None, 'cantico_meio': None, 'cantico_final': None, 'oracao_inicial_id': None, 'oracao_final_id': None, 'presidente_id': None, 'conselheiro_sala_b_id': None, 'partes': [{'id': 46, 'reuniao_id': 7, 'numero_parte': 1, 'trecho': 'Tesouros da Palavra de Deus', 'nome_parte': '', 'ponto_parte': None, 'duracao': 0, 'pessoa_id': None, 'ajudante_id': None, 'pessoa_b_id': None, 'ajudante_b_id': None}, {'id': 47, 'reuniao_id': 7, 'numero_parte': 2, 'trecho': 'Tesouros da Palavra de Deus', 'nome_parte': 'Joias espirituais', 'ponto_parte': None, 'duracao': 0, 'pessoa_id': None, 'ajudante_id': None, 'pessoa_b_id': None, 'ajudante_b_id': None}, {'id': 48, 'reuniao_id': 7, 'numero_parte': 3, 'trecho': 'Tesouros da Palavra de Deus', 'nome_parte': 'Leitura da Bíblia', 'ponto_parte': None, 'duracao': 0, 'pessoa_id': None, 'ajudante_id': None, 'pessoa_b_id': None, 'ajudante_b_id': None}, {'id': 49, 'reuniao_id': 7, 'numero_parte': 4, 'trecho': 'Faça seu Melhor no Ministério', 'nome_parte': 'Iniciando conversas', 'ponto_parte': None, 'duracao': 0, 'pessoa_id': None, 'ajudante_id': None, 'pessoa_b_id': None, 'ajudante_b_id': None}, {'id': 50, 'reuniao_id': 7, 'numero_parte': 5, 'trecho': 'Faça seu Melhor no Ministério', 'nome_parte': 'Cultivando o interesse', 'ponto_parte': None, 'duracao': 0, 'pessoa_id': None, 'ajudante_id': None, 'pessoa_b_id': None, 'ajudante_b_id': None}, {'id': 52, 'reuniao_id': 7, 'numero_parte': 7, 'trecho': 'Nossa Vida Cristã', 'nome_parte': '', 'ponto_parte': None, 'duracao': 0, 'pessoa_id': None, 'ajudante_id': None, 'pessoa_b_id': None, 'ajudante_b_id': None}, {'id': 53, 'reuniao_id': 7, 'numero_parte': 8, 'trecho': 'Nossa Vida Cristã', 'nome_parte': 'Estudo da Biblico', 'ponto_parte': None, 'duracao': 0, 'pessoa_id': None, 'ajudante_id': None, 'pessoa_b_id': None, 'ajudante_b_id': None}]}, {'id': 6, 'data': '2025-05-22', 'texto': 'PROVERBIOS 14', 'cantico_inicial': None, 'cantico_meio': None, 'cantico_final': None, 'oracao_inicial_id': None, 'oracao_final_id': None, 'presidente_id': None, 'conselheiro_sala_b_id': None, 'partes': [{'id': 38, 'reuniao_id': 6, 'numero_parte': 1, 'trecho': 'Tesouros da Palavra de Deus', 'nome_parte': '', 'ponto_parte': None, 'duracao': 0, 'pessoa_id': 1, 'ajudante_id': None, 'pessoa_b_id': None, 'ajudante_b_id': None}, {'id': 39, 'reuniao_id': 6, 'numero_parte': 2, 'trecho': 'Tesouros da Palavra de Deus', 'nome_parte': 'Joias espirituais', 'ponto_parte': None, 'duracao': 0, 'pessoa_id': 3, 'ajudante_id': None, 'pessoa_b_id': None, 'ajudante_b_id': None}, {'id': 40, 'reuniao_id': 6, 'numero_parte': 3, 'trecho': 'Tesouros da Palavra de Deus', 'nome_parte': 'Leitura da Bíblia', 'ponto_parte': '', 'duracao': 0, 'pessoa_id': 5, 'ajudante_id': None, 'pessoa_b_id': 1, 'ajudante_b_id': None}, {'id': 41, 'reuniao_id': 6, 'numero_parte': 4, 'trecho': 'Faça seu Melhor no Ministério', 'nome_parte': 'Inciando conversas', 'ponto_parte': '', 'duracao': 0, 'pessoa_id': 7, 'ajudante_id': 8, 'pessoa_b_id': 3, 'ajudante_b_id': 1}, {'id': 42, 'reuniao_id': 6, 'numero_parte': 5, 'trecho': 'Faça seu Melhor no Ministério', 'nome_parte': 'Cultivando o interesse', 'ponto_parte': '', 'duracao': 0, 'pessoa_id': 9, 'ajudante_id': 10, 'pessoa_b_id': 10, 'ajudante_b_id': 5}, {'id': 43, 'reuniao_id': 6, 'numero_parte': 6, 'trecho': 'Faça seu Melhor no Ministério', 'nome_parte': 'Cultivando o interesse', 'ponto_parte': '', 'duracao': 0, 'pessoa_id': 10, 'ajudante_id': 8, 'pessoa_b_id': 2, 'ajudante_b_id': 7}, {'id': 44, 'reuniao_id': 6, 'numero_parte': 7, 'trecho': 'Nossa Vida Cristã', 'nome_parte': '', 'ponto_parte': None, 'duracao': 0, 'pessoa_id': 3, 'ajudante_id': None, 'pessoa_b_id': None, 'ajudante_b_id': None}, {'id': 45, 'reuniao_id': 6, 'numero_parte': 8, 'trecho': 'Nossa Vida Cristã', 'nome_parte': 'Estudo da Biblico', 'ponto_parte': None, 'duracao': 0, 'pessoa_id': 6, 'ajudante_id': None, 'pessoa_b_id': None, 'ajudante_b_id': None}]}, {'id': 5, 'data': '2025-05-29', 'texto': 'PROVERBIOS 15', 'cantico_inicial': None, 'cantico_meio': None, 'cantico_final': None, 'oracao_inicial_id': None, 'oracao_final_id': None, 'presidente_id': None, 'conselheiro_sala_b_id': None, 'partes': [{'id': 30, 'reuniao_id': 5, 'numero_parte': 1, 'trecho': 'Tesouros da Palavra de Deus', 'nome_parte': '', 'ponto_parte': None, 'duracao': 0, 'pessoa_id': None, 'ajudante_id': None, 'pessoa_b_id': None, 'ajudante_b_id': None}, {'id': 31, 'reuniao_id': 5, 'numero_parte': 2, 'trecho': 'Tesouros da Palavra de Deus', 'nome_parte': 'Joias espirituais', 'ponto_parte': None, 'duracao': 0, 'pessoa_id': None, 'ajudante_id': None, 'pessoa_b_id': None, 'ajudante_b_id': None}, {'id': 32, 'reuniao_id': 5, 'numero_parte': 3, 'trecho': 'Tesouros da Palavra de Deus', 'nome_parte': 'Leitura da Bíblia', 'ponto_parte': None, 'duracao': 0, 'pessoa_id': None, 'ajudante_id': None, 'pessoa_b_id': None, 'ajudante_b_id': None}, {'id': 33, 'reuniao_id': 5, 'numero_parte': 4, 'trecho': 'Faça seu Melhor no Ministério', 'nome_parte': 'Iniciando conversas', 'ponto_parte': None, 'duracao': 0, 'pessoa_id': None, 'ajudante_id': None, 'pessoa_b_id': None, 'ajudante_b_id': None}, {'id': 34, 'reuniao_id': 5, 'numero_parte': 5, 'trecho': 'Faça seu Melhor no Ministério', 'nome_parte': 'Cultivando o interesse', 'ponto_parte': None, 'duracao': 0, 'pessoa_id': None, 'ajudante_id': None, 'pessoa_b_id': None, 'ajudante_b_id': None}, {'id': 35, 'reuniao_id': 5, 'numero_parte': 6, 'trecho': 'Faça seu Melhor no Ministério', 'nome_parte': 'Cultivando o interesse', 'ponto_parte': None, 'duracao': 0, 'pessoa_id': None, 'ajudante_id': None, 'pessoa_b_id': None, 'ajudante_b_id': None}, {'id': 36, 'reuniao_id': 5, 'numero_parte': 7, 'trecho': 'Nossa Vida Cristã', 'nome_parte': '', 'ponto_parte': None, 'duracao': 0, 'pessoa_id': None, 'ajudante_id': None, 'pessoa_b_id': None, 'ajudante_b_id': None}, {'id': 37, 'reuniao_id': 5, 'numero_parte': 8, 'trecho': 'Nossa Vida Cristã', 'nome_parte': 'Estudo da Biblico', 'ponto_parte': None, 'duracao': 0, 'pessoa_id': None, 'ajudante_id': None, 'pessoa_b_id': None, 'ajudante_b_id': None}]}]}\n"
     ]
    }
   ],
   "source": [
    "import json\n",
    "\n",
    "\n",
    "with open(\"teste.json\", \"r\") as f:\n",
    "    data = f.read()\n",
    "    json_data = json.loads(data)\n",
    "print(json_data)"
   ]
  },
  {
   "cell_type": "markdown",
   "id": "254422ce",
   "metadata": {},
   "source": [
    "## Tabela 1 - Header"
   ]
  },
  {
   "cell_type": "code",
   "execution_count": 4,
   "id": "525090e2",
   "metadata": {},
   "outputs": [],
   "source": [
    "def get_tab1(reuniao):\n",
    "    date_obj = datetime.strptime(reuniao['data'], '%Y-%m-%d')\n",
    "    day = date_obj.day\n",
    "    month = month_mapping[date_obj.month]\n",
    "    formatted_date = f\"{day:02d} de {month}\"\n",
    "    tab1.append(f\"{formatted_date.upper()} | {reuniao['texto'].upper()}\")\n",
    "    tab1.append(\"Presidente:\")\n",
    "    tab1.append(reuniao[\"presidente_id\"])\n",
    "    tab1.append(\"\")\n",
    "    tab1.append(\"Conselheiro da sala B:\")\n",
    "    tab1.append(reuniao[\"conselheiro_sala_b_id\"])\n"
   ]
  },
  {
   "cell_type": "markdown",
   "id": "3fe1b7e8",
   "metadata": {},
   "source": [
    "## Tabela 2 - Detalhes  "
   ]
  },
  {
   "cell_type": "code",
   "execution_count": 5,
   "id": "c2a211bb",
   "metadata": {},
   "outputs": [],
   "source": [
    "def get_tab2(reuniao):\n",
    "    tab2.append(f\"Cantico: {reuniao[\"cantico_inicial\"]}\")\n",
    "    tab2.append(\"Oração\")\n",
    "    tab2.append(reuniao[\"oracao_inicial_id\"])\n",
    "    tab2.append(\"Comentarios Iniciais 1 (min)\")"
   ]
  },
  {
   "cell_type": "markdown",
   "id": "341f05a2",
   "metadata": {},
   "source": [
    "## Tabela 3 - Tesouros"
   ]
  },
  {
   "cell_type": "code",
   "execution_count": 6,
   "id": "df035ad4",
   "metadata": {},
   "outputs": [],
   "source": [
    "def init_tab3():\n",
    "    tab3.append(\"TESOUROS DA PALAVRA DE DEUS\")\n",
    "    tab3.append(\"TESOUROS DA PALAVRA DE DEUS\")\n",
    "    tab3.append(\"Sala B\")\n",
    "    tab3.append(\"Sala Principal\")\n",
    "  \n",
    "def get_tab3(parte):\n",
    "    if parte[\"numero_parte\"] in [1, 2]:\n",
    "        multi_append(tab3, f\"{parte['numero_parte']}. {parte['nome_parte']} ({parte['duracao']} min)\", 3)\n",
    "        tab3.append(f\"{parte['pessoa_id']}\")\n",
    "    elif parte[\"numero_parte\"] == 3:\n",
    "        tab3.append(f\"{parte[\"numero_parte\"]}. {parte[\"nome_parte\"]} ({parte[\"duracao\"]} min)\" ) \n",
    "        tab3.append(\"Estudante:\")\n",
    "        tab3.append(f\"{parte['pessoa_b_id']} ({parte['ponto_parte']})\")\n",
    "        tab3.append(f\"{parte['pessoa_id']} ({parte['ponto_parte']})\")\n",
    "    "
   ]
  },
  {
   "cell_type": "markdown",
   "id": "e1760804",
   "metadata": {},
   "source": [
    "## Tabela 4 - Faça seu melhor no ministerio"
   ]
  },
  {
   "cell_type": "code",
   "execution_count": 7,
   "id": "364d94ff",
   "metadata": {},
   "outputs": [],
   "source": [
    "def init_tab4():\n",
    "    tab4.append(\"FAÇA SEU MELHOR NO MINESTERIO\")\n",
    "    tab4.append(\"FAÇA SEU MELHOR NO MINESTERIO\")\n",
    "    tab4.append(\"Sala B\")\n",
    "    tab4.append(\"Sala Principal\")\n",
    "\n",
    "\n",
    "def get_tab4(parte):\n",
    "    if parte[\"numero_parte\"] in [4,5,6,7] and parte[\"trecho\"] == \"Faça seu Melhor no Ministério\":\n",
    "        if parte[\"nome_parte\"] != \"Discurso\":\n",
    "            tab4.append(f\"{parte['numero_parte']}. {parte['nome_parte']} ({parte['duracao']} min)\") \n",
    "            tab4.append(f\"{parte['pessoa_b_id']} / {parte['ajudante_b_id']}\")\n",
    "            tab4.append(f\"{parte['pessoa_id']} / {parte['ajudante_id']}\")\n",
    "        else:\n",
    "            tab4.append(f\"{parte['numero_parte']}. {parte['nome_parte']} ({parte['duracao']} min)\") \n",
    "            tab4.append(f\"{parte['pessoa_b_id']}\")\n",
    "            tab4.append(f\"{parte['pessoa_id']}\")\n",
    "        "
   ]
  },
  {
   "cell_type": "markdown",
   "id": "4b8d2edc",
   "metadata": {},
   "source": [
    "## Tabela 5 - Nossa vida cristã e fim da reuniao "
   ]
  },
  {
   "cell_type": "code",
   "execution_count": 8,
   "id": "fd786de8",
   "metadata": {},
   "outputs": [],
   "source": [
    "def init_tab5(reuniao):\n",
    "    tab5.append(\"NOSSA VIDA CRISTÃ\")\n",
    "    multi_append(tab5, \"\", 2)\n",
    "    multi_append(tab5, reuniao[\"cantico_meio\"], 2)\n",
    "    \n",
    "def get_tab5(parte):\n",
    "    if parte[\"numero_parte\"] in [7, 8, 9] and parte[\"trecho\"] == \"Nossa Vida Cristã\":\n",
    "        multi_append(tab5, f\"{parte['numero_parte']}. {parte['nome_parte']} ({parte['duracao']} min)\", 2)\n",
    "        tab5.append(f\"{parte['pessoa_id']}\")\n",
    "    \n",
    "def end_tab5(reuniao):\n",
    "    multi_append(tab5, \"Comentários Finais\", 2)\n",
    "    tab5.append(\"\")\n",
    "    tab5.append(reuniao[\"cantico_final\"])\n",
    "    tab5.append(\"Oração:\")\n",
    "    tab5.append(reuniao[\"oracao_final_id\"])\n",
    "    \n",
    "    \n",
    "    \n",
    "    "
   ]
  },
  {
   "cell_type": "code",
   "execution_count": 9,
   "id": "5bcd1050",
   "metadata": {},
   "outputs": [
    {
     "name": "stdout",
     "output_type": "stream",
     "text": [
      "Reunião: 2025-05-01\n",
      "['01 DE MAIO | PROVERBIOS 11', 'Presidente:', 1, '', 'Conselheiro da sala B:', 5]\n",
      "['Cantico: 145', 'Oração', 2, 'Comentarios Iniciais 1 (min)']\n",
      "['TESOUROS DA PALAVRA DE DEUS', 'TESOUROS DA PALAVRA DE DEUS', 'Sala B', 'Sala Principal', '1. Não Fale... (10 min)', '1. Não Fale... (10 min)', '1. Não Fale... (10 min)', '1', '2. Joias espirituais (10 min)', '2. Joias espirituais (10 min)', '2. Joias espirituais (10 min)', '3', '3. Leitura da Biblia (4 min)', 'Estudante:', 'None ()', '5 ()']\n",
      "['FAÇA SEU MELHOR NO MINESTERIO', 'FAÇA SEU MELHOR NO MINESTERIO', 'Sala B', 'Sala Principal', '4. None (1 min)', 'None / None', 'None / None', '5. None (4 min)', 'None / None', 'None / None', '6. Inciando conversas (6 min)', 'None / None', '8 / 9']\n",
      "['NOSSA VIDA CRISTÃ', '', '', '56', '56', '7. Necessidades locais (15 min)', '7. Necessidades locais (15 min)', '6', '8. Estudo Biblíco (30 min)', '8. Estudo Biblíco (30 min)', '2']\n"
     ]
    }
   ],
   "source": [
    "\n",
    "reunioes = json_data[\"reunioes\"]\n",
    "for reuniao in reunioes[:1]:\n",
    "    print(f\"Reunião: {reuniao['data']}\")\n",
    "    get_tab1(reuniao)\n",
    "    get_tab2(reuniao)\n",
    "    init_tab3()\n",
    "    init_tab4()\n",
    "    init_tab5(reuniao)\n",
    "    for parte in reuniao[\"partes\"]:\n",
    "        get_tab3(parte)\n",
    "        get_tab4(parte)\n",
    "        get_tab5(parte)\n",
    "\n",
    "print(tab1)\n",
    "print(tab2)\n",
    "print(tab3)\n",
    "print(tab4)\n",
    "print(tab5)"
   ]
  },
  {
   "cell_type": "markdown",
   "id": "3dc24e08",
   "metadata": {},
   "source": [
    "# Modificar Documento word"
   ]
  },
  {
   "cell_type": "code",
   "execution_count": 59,
   "id": "d348b736",
   "metadata": {},
   "outputs": [],
   "source": [
    "\n",
    "\n",
    "doc = Document(\"Programação Reunião do Meio de Semana Junho - 2025.docx\")"
   ]
  },
  {
   "cell_type": "code",
   "execution_count": null,
   "id": "edd91278",
   "metadata": {},
   "outputs": [
    {
     "name": "stdout",
     "output_type": "stream",
     "text": [
      "Célula 0: TESOUROS DA PALAVRA DE DEUS\n",
      "Run 0: TESOUROS DA PALAVRA DE DEUS\n",
      "Célula 1: TESOUROS DA PALAVRA DE DEUS\n",
      "Run 0: TESOUROS DA PALAVRA DE DEUS\n",
      "Célula 2: Sala B\n",
      "Run 0: Sala B\n",
      "Célula 3: Sala Principal\n",
      "Run 0: Sala Principal\n",
      "Célula 4: 1. Não Fale... (10 min)\n",
      "Run 0: 1. Não Fale... (10 min)\n",
      "Run 1: \n",
      "Run 2: \n",
      "Run 3: \n",
      "Run 4: \n",
      "Célula 5: 1. Não Fale... (10 min)\n",
      "Run 0: 1. Não Fale... (10 min)\n",
      "Run 1: \n",
      "Run 2: \n",
      "Run 3: \n",
      "Run 4: \n",
      "Célula 6: 1. Não Fale... (10 min)\n",
      "Run 0: 1. Não Fale... (10 min)\n",
      "Run 1: \n",
      "Run 2: \n",
      "Run 3: \n",
      "Run 4: \n",
      "Célula 7: 1\n",
      "Run 0: 1\n",
      "Run 1: \n",
      "Célula 8: 2. Joias espirituais (10 min)\n",
      "Célula 9: 2. Joias espirituais (10 min)\n",
      "Célula 10: 2. Joias espirituais (10 min)\n",
      "Célula 11: Adelmo Santos\n",
      "Célula 12: 3. Leitura da Bíblia (4 min)\n",
      "Célula 13: Estudante:\n",
      "Célula 14: Nelson Siqueira (5)\n",
      "Célula 15: Juan (5)\n"
     ]
    }
   ],
   "source": [
    "from docx.shared import Pt\n",
    "\n",
    "count = 0\n",
    "doc_tab1 = doc.tables[0]\n",
    "doc_tab2 = doc.tables[1]\n",
    "doc_tab3 = doc.tables[2]\n",
    "doc_tab4 = doc.tables[3]\n",
    "doc_tab5 = doc.tables[4]\n",
    "\n",
    "def format_table(table, tab_data, cell_selected):\n",
    "    count = 0\n",
    "    for row in table.rows:\n",
    "        for cell in row.cells:\n",
    "            print(f\"Célula {count}: {cell.text}\")\n",
    "            if count in cell_selected:\n",
    "                for paragraph in cell.paragraphs:\n",
    "                    run_count = 0\n",
    "                    for run in paragraph.runs:\n",
    "                        print(f\"Run {run_count}: {run.text}\")\n",
    "                        if run_count == 0:\n",
    "                            # Save the current font properties\n",
    "                            # current_font_name = run.font.name\n",
    "                            # current_font_size = run.font.size\n",
    "                            # Alter the text (modify as needed)\n",
    "                            run.text = str(tab_data[count])\n",
    "                            # run.text = \"Novo Texto\"\n",
    "                            # Reapply the saved font properties\n",
    "                            # run.font.name = current_font_name\n",
    "                            # run.font.size = current_font_size\n",
    "                        else:\n",
    "                            run.text = \"\"\n",
    "                        run_count += 1\n",
    "            count += 1\n",
    "\n",
    "format_table(doc_tab1, tab1, [0, 2, 5])\n",
    "format_table(doc_tab2, tab2, [0, 1, 2, 3])\n",
    "format_table(doc_tab3, tab3, [0, 1, 2, 3, 4, 5, 6, 7, 8])\n",
    "doc.save(\"Programação Reunião do Meio de Semana Junho - 2025 copy.docx\")"
   ]
  },
  {
   "cell_type": "code",
   "execution_count": null,
   "id": "45c9a726",
   "metadata": {},
   "outputs": [],
   "source": []
  }
 ],
 "metadata": {
  "kernelspec": {
   "display_name": ".venv",
   "language": "python",
   "name": "python3"
  },
  "language_info": {
   "codemirror_mode": {
    "name": "ipython",
    "version": 3
   },
   "file_extension": ".py",
   "mimetype": "text/x-python",
   "name": "python",
   "nbconvert_exporter": "python",
   "pygments_lexer": "ipython3",
   "version": "3.13.1"
  }
 },
 "nbformat": 4,
 "nbformat_minor": 5
}
