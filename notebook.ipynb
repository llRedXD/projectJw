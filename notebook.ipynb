{
 "cells": [
  {
   "cell_type": "code",
   "execution_count": 52,
   "id": "2589dd41",
   "metadata": {},
   "outputs": [],
   "source": [
    "from datetime import datetime\n",
    "\n",
    "\n",
    "month_mapping = {\n",
    "    1: \"janeiro\",\n",
    "    2: \"fevereiro\",\n",
    "    3: \"março\",\n",
    "    4: \"abril\",\n",
    "    5: \"maio\",\n",
    "    6: \"junho\",\n",
    "    7: \"julho\",\n",
    "    8: \"agosto\",\n",
    "    9: \"setembro\",\n",
    "    10: \"outubro\",\n",
    "    11: \"novembro\",\n",
    "    12: \"dezembro\",\n",
    "}"
   ]
  },
  {
   "cell_type": "code",
   "execution_count": null,
   "id": "d348b736",
   "metadata": {},
   "outputs": [],
   "source": [
    "from docx import Document\n",
    "\n",
    "doc = Document(\"Programação Reunião do Meio de Semana Junho - 2025.docx\")\n",
    "for table in doc.tables[0:5]:\n",
    "    print(\"Table found:\")\n",
    "    for row in table.rows:\n",
    "        for cell in row.cells:\n",
    "            print(cell.text)"
   ]
  },
  {
   "cell_type": "code",
   "execution_count": 59,
   "id": "6a7c27b7",
   "metadata": {},
   "outputs": [],
   "source": [
    "tab1 = []\n",
    "tab2 = []\n",
    "tab3 = []\n",
    "tab4 = []\n",
    "tab5 = []"
   ]
  },
  {
   "cell_type": "code",
   "execution_count": null,
   "id": "5d9ad3a2",
   "metadata": {},
   "outputs": [],
   "source": [
    "for t in doc.tables[:5]:\n",
    "    for r in t.rows:\n",
    "        for c in r.cells:\n",
    "            c.text = \"\"\n",
    "            \n",
    "\n",
    "\n",
    "doc.save(\"Programação Reunião do Meio de Semana Junho - 2025 copy.docx\")"
   ]
  },
  {
   "cell_type": "code",
   "execution_count": 5,
   "id": "7acab568",
   "metadata": {},
   "outputs": [
    {
     "name": "stdout",
     "output_type": "stream",
     "text": [
      "{'reunioes': [{'id': 1, 'data': '2025-05-01', 'texto': 'PROVERBIOS 11', 'cantico_inicial': '145', 'cantico_meio': '56', 'cantico_final': '2', 'oracao_inicial_id': 2, 'oracao_final_id': 5, 'presidente_id': 1, 'conselheiro_sala_b_id': 5, 'partes': [{'id': 3, 'reuniao_id': 1, 'numero_parte': 1, 'trecho': 'Tesouros da Palavra de Deus', 'nome_parte': 'Não Fale...', 'ponto_parte': None, 'duracao': 10, 'pessoa_id': 1, 'ajudante_id': None, 'pessoa_b_id': None, 'ajudante_b_id': None}, {'id': 2, 'reuniao_id': 1, 'numero_parte': 2, 'trecho': 'Tesouros da Palavra de Deus', 'nome_parte': 'Joias espirituais', 'ponto_parte': '', 'duracao': 10, 'pessoa_id': 3, 'ajudante_id': None, 'pessoa_b_id': None, 'ajudante_b_id': None}, {'id': 1, 'reuniao_id': 1, 'numero_parte': 3, 'trecho': 'Tesouros da Palavra de Deus', 'nome_parte': 'Leitura da Biblia', 'ponto_parte': '', 'duracao': 4, 'pessoa_id': 5, 'ajudante_id': None, 'pessoa_b_id': None, 'ajudante_b_id': None}, {'id': 16, 'reuniao_id': 1, 'numero_parte': 4, 'trecho': 'Faça seu Melhor no Ministério', 'nome_parte': None, 'ponto_parte': '', 'duracao': 1, 'pessoa_id': None, 'ajudante_id': None, 'pessoa_b_id': None, 'ajudante_b_id': None}, {'id': 15, 'reuniao_id': 1, 'numero_parte': 5, 'trecho': 'Faça seu Melhor no Ministério', 'nome_parte': None, 'ponto_parte': '', 'duracao': 4, 'pessoa_id': None, 'ajudante_id': None, 'pessoa_b_id': None, 'ajudante_b_id': None}, {'id': 7, 'reuniao_id': 1, 'numero_parte': 6, 'trecho': 'Faça seu Melhor no Ministério', 'nome_parte': 'Inciando conversas', 'ponto_parte': '', 'duracao': 6, 'pessoa_id': 8, 'ajudante_id': 9, 'pessoa_b_id': None, 'ajudante_b_id': None}, {'id': 18, 'reuniao_id': 1, 'numero_parte': 7, 'trecho': 'Nossa Vida Cristã', 'nome_parte': 'Necessidades locais', 'ponto_parte': None, 'duracao': 15, 'pessoa_id': 6, 'ajudante_id': None, 'pessoa_b_id': None, 'ajudante_b_id': None}, {'id': 17, 'reuniao_id': 1, 'numero_parte': 8, 'trecho': 'Nossa Vida Cristã', 'nome_parte': 'Estudo Biblíco', 'ponto_parte': None, 'duracao': 30, 'pessoa_id': 2, 'ajudante_id': None, 'pessoa_b_id': None, 'ajudante_b_id': None}]}, {'id': 8, 'data': '2025-05-08', 'texto': 'PROVERBIOS 12', 'cantico_inicial': None, 'cantico_meio': None, 'cantico_final': None, 'oracao_inicial_id': None, 'oracao_final_id': None, 'presidente_id': None, 'conselheiro_sala_b_id': None, 'partes': [{'id': 54, 'reuniao_id': 8, 'numero_parte': 1, 'trecho': 'Tesouros da Palavra de Deus', 'nome_parte': '', 'ponto_parte': None, 'duracao': 0, 'pessoa_id': 5, 'ajudante_id': None, 'pessoa_b_id': None, 'ajudante_b_id': None}, {'id': 55, 'reuniao_id': 8, 'numero_parte': 2, 'trecho': 'Tesouros da Palavra de Deus', 'nome_parte': 'Joias espirituais', 'ponto_parte': None, 'duracao': 0, 'pessoa_id': None, 'ajudante_id': None, 'pessoa_b_id': None, 'ajudante_b_id': None}, {'id': 56, 'reuniao_id': 8, 'numero_parte': 3, 'trecho': 'Tesouros da Palavra de Deus', 'nome_parte': 'Leitura da Bíblia', 'ponto_parte': None, 'duracao': 0, 'pessoa_id': None, 'ajudante_id': None, 'pessoa_b_id': None, 'ajudante_b_id': None}, {'id': 70, 'reuniao_id': 8, 'numero_parte': 4, 'trecho': 'Faça seu Melhor no Ministério', 'nome_parte': None, 'ponto_parte': None, 'duracao': 0, 'pessoa_id': None, 'ajudante_id': None, 'pessoa_b_id': None, 'ajudante_b_id': None}, {'id': 58, 'reuniao_id': 8, 'numero_parte': 5, 'trecho': 'Faça seu Melhor no Ministério', 'nome_parte': 'Cultivando o interesse', 'ponto_parte': None, 'duracao': 0, 'pessoa_id': None, 'ajudante_id': None, 'pessoa_b_id': None, 'ajudante_b_id': None}, {'id': 59, 'reuniao_id': 8, 'numero_parte': 6, 'trecho': 'Faça seu Melhor no Ministério', 'nome_parte': 'Cultivando o interesse', 'ponto_parte': '', 'duracao': 0, 'pessoa_id': 10, 'ajudante_id': 5, 'pessoa_b_id': 9, 'ajudante_b_id': 6}, {'id': 60, 'reuniao_id': 8, 'numero_parte': 7, 'trecho': 'Nossa Vida Cristã', 'nome_parte': '', 'ponto_parte': None, 'duracao': 0, 'pessoa_id': None, 'ajudante_id': None, 'pessoa_b_id': None, 'ajudante_b_id': None}, {'id': 61, 'reuniao_id': 8, 'numero_parte': 8, 'trecho': 'Nossa Vida Cristã', 'nome_parte': 'Estudo da Biblico', 'ponto_parte': None, 'duracao': 0, 'pessoa_id': None, 'ajudante_id': None, 'pessoa_b_id': None, 'ajudante_b_id': None}]}, {'id': 7, 'data': '2025-05-15', 'texto': 'PROVERBIOS 13', 'cantico_inicial': None, 'cantico_meio': None, 'cantico_final': None, 'oracao_inicial_id': None, 'oracao_final_id': None, 'presidente_id': None, 'conselheiro_sala_b_id': None, 'partes': [{'id': 46, 'reuniao_id': 7, 'numero_parte': 1, 'trecho': 'Tesouros da Palavra de Deus', 'nome_parte': '', 'ponto_parte': None, 'duracao': 0, 'pessoa_id': None, 'ajudante_id': None, 'pessoa_b_id': None, 'ajudante_b_id': None}, {'id': 47, 'reuniao_id': 7, 'numero_parte': 2, 'trecho': 'Tesouros da Palavra de Deus', 'nome_parte': 'Joias espirituais', 'ponto_parte': None, 'duracao': 0, 'pessoa_id': None, 'ajudante_id': None, 'pessoa_b_id': None, 'ajudante_b_id': None}, {'id': 48, 'reuniao_id': 7, 'numero_parte': 3, 'trecho': 'Tesouros da Palavra de Deus', 'nome_parte': 'Leitura da Bíblia', 'ponto_parte': None, 'duracao': 0, 'pessoa_id': None, 'ajudante_id': None, 'pessoa_b_id': None, 'ajudante_b_id': None}, {'id': 49, 'reuniao_id': 7, 'numero_parte': 4, 'trecho': 'Faça seu Melhor no Ministério', 'nome_parte': 'Iniciando conversas', 'ponto_parte': None, 'duracao': 0, 'pessoa_id': None, 'ajudante_id': None, 'pessoa_b_id': None, 'ajudante_b_id': None}, {'id': 50, 'reuniao_id': 7, 'numero_parte': 5, 'trecho': 'Faça seu Melhor no Ministério', 'nome_parte': 'Cultivando o interesse', 'ponto_parte': None, 'duracao': 0, 'pessoa_id': None, 'ajudante_id': None, 'pessoa_b_id': None, 'ajudante_b_id': None}, {'id': 52, 'reuniao_id': 7, 'numero_parte': 7, 'trecho': 'Nossa Vida Cristã', 'nome_parte': '', 'ponto_parte': None, 'duracao': 0, 'pessoa_id': None, 'ajudante_id': None, 'pessoa_b_id': None, 'ajudante_b_id': None}, {'id': 53, 'reuniao_id': 7, 'numero_parte': 8, 'trecho': 'Nossa Vida Cristã', 'nome_parte': 'Estudo da Biblico', 'ponto_parte': None, 'duracao': 0, 'pessoa_id': None, 'ajudante_id': None, 'pessoa_b_id': None, 'ajudante_b_id': None}]}, {'id': 6, 'data': '2025-05-22', 'texto': 'PROVERBIOS 14', 'cantico_inicial': None, 'cantico_meio': None, 'cantico_final': None, 'oracao_inicial_id': None, 'oracao_final_id': None, 'presidente_id': None, 'conselheiro_sala_b_id': None, 'partes': [{'id': 38, 'reuniao_id': 6, 'numero_parte': 1, 'trecho': 'Tesouros da Palavra de Deus', 'nome_parte': '', 'ponto_parte': None, 'duracao': 0, 'pessoa_id': 1, 'ajudante_id': None, 'pessoa_b_id': None, 'ajudante_b_id': None}, {'id': 39, 'reuniao_id': 6, 'numero_parte': 2, 'trecho': 'Tesouros da Palavra de Deus', 'nome_parte': 'Joias espirituais', 'ponto_parte': None, 'duracao': 0, 'pessoa_id': 3, 'ajudante_id': None, 'pessoa_b_id': None, 'ajudante_b_id': None}, {'id': 40, 'reuniao_id': 6, 'numero_parte': 3, 'trecho': 'Tesouros da Palavra de Deus', 'nome_parte': 'Leitura da Bíblia', 'ponto_parte': '', 'duracao': 0, 'pessoa_id': 5, 'ajudante_id': None, 'pessoa_b_id': 1, 'ajudante_b_id': None}, {'id': 41, 'reuniao_id': 6, 'numero_parte': 4, 'trecho': 'Faça seu Melhor no Ministério', 'nome_parte': 'Inciando conversas', 'ponto_parte': '', 'duracao': 0, 'pessoa_id': 7, 'ajudante_id': 8, 'pessoa_b_id': 3, 'ajudante_b_id': 1}, {'id': 42, 'reuniao_id': 6, 'numero_parte': 5, 'trecho': 'Faça seu Melhor no Ministério', 'nome_parte': 'Cultivando o interesse', 'ponto_parte': '', 'duracao': 0, 'pessoa_id': 9, 'ajudante_id': 10, 'pessoa_b_id': 10, 'ajudante_b_id': 5}, {'id': 43, 'reuniao_id': 6, 'numero_parte': 6, 'trecho': 'Faça seu Melhor no Ministério', 'nome_parte': 'Cultivando o interesse', 'ponto_parte': '', 'duracao': 0, 'pessoa_id': 10, 'ajudante_id': 8, 'pessoa_b_id': 2, 'ajudante_b_id': 7}, {'id': 44, 'reuniao_id': 6, 'numero_parte': 7, 'trecho': 'Nossa Vida Cristã', 'nome_parte': '', 'ponto_parte': None, 'duracao': 0, 'pessoa_id': 3, 'ajudante_id': None, 'pessoa_b_id': None, 'ajudante_b_id': None}, {'id': 45, 'reuniao_id': 6, 'numero_parte': 8, 'trecho': 'Nossa Vida Cristã', 'nome_parte': 'Estudo da Biblico', 'ponto_parte': None, 'duracao': 0, 'pessoa_id': 6, 'ajudante_id': None, 'pessoa_b_id': None, 'ajudante_b_id': None}]}, {'id': 5, 'data': '2025-05-29', 'texto': 'PROVERBIOS 15', 'cantico_inicial': None, 'cantico_meio': None, 'cantico_final': None, 'oracao_inicial_id': None, 'oracao_final_id': None, 'presidente_id': None, 'conselheiro_sala_b_id': None, 'partes': [{'id': 30, 'reuniao_id': 5, 'numero_parte': 1, 'trecho': 'Tesouros da Palavra de Deus', 'nome_parte': '', 'ponto_parte': None, 'duracao': 0, 'pessoa_id': None, 'ajudante_id': None, 'pessoa_b_id': None, 'ajudante_b_id': None}, {'id': 31, 'reuniao_id': 5, 'numero_parte': 2, 'trecho': 'Tesouros da Palavra de Deus', 'nome_parte': 'Joias espirituais', 'ponto_parte': None, 'duracao': 0, 'pessoa_id': None, 'ajudante_id': None, 'pessoa_b_id': None, 'ajudante_b_id': None}, {'id': 32, 'reuniao_id': 5, 'numero_parte': 3, 'trecho': 'Tesouros da Palavra de Deus', 'nome_parte': 'Leitura da Bíblia', 'ponto_parte': None, 'duracao': 0, 'pessoa_id': None, 'ajudante_id': None, 'pessoa_b_id': None, 'ajudante_b_id': None}, {'id': 33, 'reuniao_id': 5, 'numero_parte': 4, 'trecho': 'Faça seu Melhor no Ministério', 'nome_parte': 'Iniciando conversas', 'ponto_parte': None, 'duracao': 0, 'pessoa_id': None, 'ajudante_id': None, 'pessoa_b_id': None, 'ajudante_b_id': None}, {'id': 34, 'reuniao_id': 5, 'numero_parte': 5, 'trecho': 'Faça seu Melhor no Ministério', 'nome_parte': 'Cultivando o interesse', 'ponto_parte': None, 'duracao': 0, 'pessoa_id': None, 'ajudante_id': None, 'pessoa_b_id': None, 'ajudante_b_id': None}, {'id': 35, 'reuniao_id': 5, 'numero_parte': 6, 'trecho': 'Faça seu Melhor no Ministério', 'nome_parte': 'Cultivando o interesse', 'ponto_parte': None, 'duracao': 0, 'pessoa_id': None, 'ajudante_id': None, 'pessoa_b_id': None, 'ajudante_b_id': None}, {'id': 36, 'reuniao_id': 5, 'numero_parte': 7, 'trecho': 'Nossa Vida Cristã', 'nome_parte': '', 'ponto_parte': None, 'duracao': 0, 'pessoa_id': None, 'ajudante_id': None, 'pessoa_b_id': None, 'ajudante_b_id': None}, {'id': 37, 'reuniao_id': 5, 'numero_parte': 8, 'trecho': 'Nossa Vida Cristã', 'nome_parte': 'Estudo da Biblico', 'ponto_parte': None, 'duracao': 0, 'pessoa_id': None, 'ajudante_id': None, 'pessoa_b_id': None, 'ajudante_b_id': None}]}]}\n"
     ]
    }
   ],
   "source": [
    "import json\n",
    "\n",
    "\n",
    "with open(\"teste.json\", \"r\") as f:\n",
    "    data = f.read()\n",
    "    json_data = json.loads(data)\n",
    "print(json_data)"
   ]
  },
  {
   "cell_type": "markdown",
   "id": "254422ce",
   "metadata": {},
   "source": [
    "# Tabela 1 - Header"
   ]
  },
  {
   "cell_type": "code",
   "execution_count": 54,
   "id": "525090e2",
   "metadata": {},
   "outputs": [],
   "source": [
    "def get_tab1(reuniao):\n",
    "    date_obj = datetime.strptime(reuniao['data'], '%Y-%m-%d')\n",
    "    day = date_obj.day\n",
    "    month = month_mapping[date_obj.month]\n",
    "    formatted_date = f\"{day:02d} de {month}\"\n",
    "    tab1.append(f\"{formatted_date.upper()} | {reuniao['texto'].upper()}\")\n",
    "    tab1.append(\"Presidente:\")\n",
    "    tab1.append(reuniao[\"presidente_id\"])\n",
    "    tab1.append(\"\")\n",
    "    tab1.append(\"Conselheiro da sala B:\")\n",
    "    tab1.append(reuniao[\"conselheiro_sala_b_id\"])\n"
   ]
  },
  {
   "cell_type": "markdown",
   "id": "3fe1b7e8",
   "metadata": {},
   "source": [
    "# Tabela 2 - Detalhes  "
   ]
  },
  {
   "cell_type": "code",
   "execution_count": 55,
   "id": "c2a211bb",
   "metadata": {},
   "outputs": [],
   "source": [
    "def get_tab2(reuniao):\n",
    "    tab2.append(f\"Cantico: {reuniao[\"cantico_inicial\"]}\")\n",
    "    tab2.append(\"Oração\")\n",
    "    tab2.append(reuniao[\"oracao_inicial_id\"])\n",
    "    tab2.append(\"Comentarios Iniciais 1 (min)\")"
   ]
  },
  {
   "cell_type": "markdown",
   "id": "341f05a2",
   "metadata": {},
   "source": [
    "# Tabela 3 - Tesouros"
   ]
  },
  {
   "cell_type": "code",
   "execution_count": null,
   "id": "df035ad4",
   "metadata": {},
   "outputs": [],
   "source": [
    "def init_tab3():\n",
    "    tab3.append(\"TESOUROS DA PALAVRA DE DEUS\")\n",
    "    tab3.append(\"TESOUROS DA PALAVRA DE DEUS\")\n",
    "    tab3.append(\"Sala B\")\n",
    "    tab3.append(\"Sala Principal\")\n",
    "  \n",
    "def get_tab3(parte):\n",
    "    if parte[\"numero_parte\"] in [1, 2]:\n",
    "        tab3.append(f\"{parte['numero_parte']}. {parte['nome_parte']} ({parte['duracao']} min)\" * 3) \n",
    "        tab3.append(f\"{parte['pessoa_id']}\")\n",
    "    elif parte[\"numero_parte\"] == 3:\n",
    "        tab3.append(f\"{parte[\"numero_parte\"]}. {parte[\"nome_parte\"]} ({parte[\"duracao\"]} min)\" ) \n",
    "        tab3.append(\"Estudante:\")\n",
    "        tab3.append(f\"{parte['pessoa_b_id']} ({parte['ponto_parte']})\")\n",
    "        tab3.append(f\"{parte['pessoa_id']} ({parte['ponto_parte']})\")\n",
    "    "
   ]
  },
  {
   "cell_type": "code",
   "execution_count": 60,
   "id": "5bcd1050",
   "metadata": {},
   "outputs": [
    {
     "name": "stdout",
     "output_type": "stream",
     "text": [
      "Reunião: 2025-05-01\n",
      "['01 DE MAIO | PROVERBIOS 11', 'Presidente:', 1, '', 'Conselheiro da sala B:', 5]\n",
      "['Cantico: 145', 'Oração', 2, 'Comentarios Iniciais 1 (min)']\n",
      "['TESOUROS DA PALAVRA DE DEUS', 'TESOUROS DA PALAVRA DE DEUS', 'Sala B', 'Sala Principal', '1. Não Fale... (10 min)1. Não Fale... (10 min)1. Não Fale... (10 min)', '1', '2. Joias espirituais (10 min)2. Joias espirituais (10 min)2. Joias espirituais (10 min)', '3', '3. Leitura da Biblia (4 min)', 'Estudante:', 'None ()', '5 ()', '4. None (1 min)', 'Estudante:', 'None ()', 'None ()', '5. None (4 min)', 'Estudante:', 'None ()', 'None ()', '6. Inciando conversas (6 min)', 'Estudante:', 'None ()', '8 ()', '7. Necessidades locais (15 min)', 'Estudante:', 'None (None)', '6 (None)', '8. Estudo Biblíco (30 min)', 'Estudante:', 'None (None)', '2 (None)']\n"
     ]
    }
   ],
   "source": [
    "\n",
    "init_tab3()\n",
    "\n",
    "reunioes = json_data[\"reunioes\"]\n",
    "for reuniao in reunioes[:1]:\n",
    "    print(f\"Reunião: {reuniao['data']}\")\n",
    "    get_tab1(reuniao)\n",
    "    get_tab2(reuniao)\n",
    "    for parte in reuniao[\"partes\"]:\n",
    "        get_tab3(parte)\n",
    "        # print(parte)\n",
    "        # print(f\"  Parte: {parte['ponto']}\")\n",
    "\n",
    "print(tab1)\n",
    "print(tab2)\n",
    "print(tab3)"
   ]
  }
 ],
 "metadata": {
  "kernelspec": {
   "display_name": ".venv",
   "language": "python",
   "name": "python3"
  },
  "language_info": {
   "codemirror_mode": {
    "name": "ipython",
    "version": 3
   },
   "file_extension": ".py",
   "mimetype": "text/x-python",
   "name": "python",
   "nbconvert_exporter": "python",
   "pygments_lexer": "ipython3",
   "version": "3.13.1"
  }
 },
 "nbformat": 4,
 "nbformat_minor": 5
}
